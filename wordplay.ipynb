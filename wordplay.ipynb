{
 "cells": [
  {
   "cell_type": "code",
   "execution_count": 1,
   "metadata": {
    "collapsed": false
   },
   "outputs": [
    {
     "data": {
      "text/plain": [
       "354986"
      ]
     },
     "execution_count": 1,
     "metadata": {},
     "output_type": "execute_result"
    }
   ],
   "source": [
    "words=[]\n",
    "with open(\"english-words-master/words.txt\",\"r\") as f:\n",
    "    for word in f.readlines():\n",
    "        words.append(word[:-1])\n",
    "last=words.pop()\n",
    "words.append(last+\"s\")\n",
    "len(words)"
   ]
  },
  {
   "cell_type": "code",
   "execution_count": 2,
   "metadata": {
    "collapsed": false
   },
   "outputs": [
    {
     "data": {
      "text/plain": [
       "6758"
      ]
     },
     "execution_count": 2,
     "metadata": {},
     "output_type": "execute_result"
    }
   ],
   "source": [
    "four_letter_words=[]\n",
    "for word in words:\n",
    "    if len(word)==4:\n",
    "        four_letter_words.append(word)\n",
    "len(four_letter_words)"
   ]
  },
  {
   "cell_type": "code",
   "execution_count": 3,
   "metadata": {
    "collapsed": false
   },
   "outputs": [],
   "source": [
    "d={}\n",
    "word_graph={}\n",
    "for each in four_letter_words:\n",
    "    for i in range(len(each)):\n",
    "        wbit=each[:i]+\"_\"+each[i+1:]\n",
    "        if wbit in d:d[wbit].append(each)\n",
    "        else:d[wbit]=[each]\n",
    "for bucket in d.keys():\n",
    "    for word1 in d[bucket]:\n",
    "            for word2 in d[bucket]:\n",
    "                if word1 != word2:\n",
    "                    if word1 in word_graph:word_graph[word1].append(word2)\n",
    "                    else:word_graph[word1]=[word2]\n"
   ]
  },
  {
   "cell_type": "code",
   "execution_count": 6,
   "metadata": {
    "collapsed": false
   },
   "outputs": [],
   "source": [
    "def bfs_paths(graph, start, goal):\n",
    "    queue = [(start, [start])]\n",
    "    while queue:\n",
    "        (vertex, path) = queue.pop(0)\n",
    "        for next in graph[vertex]:\n",
    "            if next not in set(path):\n",
    "                if next == goal:\n",
    "                    yield path + [next]\n",
    "                else:\n",
    "                    queue.append((next, path + [next]))\n",
    "def shortest_bfs_path(graph,start,goal,num_paths=1):\n",
    "    iterat=bfs_paths(graph, start, goal)\n",
    "    for _ in range(num_paths):\n",
    "        \n",
    "        try:\n",
    "            print (next(iterat))\n",
    "        except StopIteration as s:print(\"that's it\")"
   ]
  },
  {
   "cell_type": "code",
   "execution_count": 13,
   "metadata": {
    "collapsed": false
   },
   "outputs": [
    {
     "name": "stdout",
     "output_type": "stream",
     "text": [
      "['fall', 'tall', 'tail']\n",
      "['fall', 'fail', 'tail']\n",
      "['fall', 'ball', 'tall', 'tail']\n",
      "['fall', 'ball', 'bail', 'tail']\n",
      "['fall', 'call', 'tall', 'tail']\n"
     ]
    }
   ],
   "source": [
    "shortest_bfs_path(word_graph,\"fall\",\"tail\",5)"
   ]
  },
  {
   "cell_type": "code",
   "execution_count": null,
   "metadata": {
    "collapsed": false
   },
   "outputs": [],
   "source": []
  },
  {
   "cell_type": "code",
   "execution_count": null,
   "metadata": {
    "collapsed": false
   },
   "outputs": [],
   "source": []
  },
  {
   "cell_type": "code",
   "execution_count": null,
   "metadata": {
    "collapsed": true
   },
   "outputs": [],
   "source": []
  }
 ],
 "metadata": {
  "anaconda-cloud": {},
  "kernelspec": {
   "display_name": "Python [default]",
   "language": "python",
   "name": "python3"
  },
  "language_info": {
   "codemirror_mode": {
    "name": "ipython",
    "version": 3
   },
   "file_extension": ".py",
   "mimetype": "text/x-python",
   "name": "python",
   "nbconvert_exporter": "python",
   "pygments_lexer": "ipython3",
   "version": "3.5.2"
  }
 },
 "nbformat": 4,
 "nbformat_minor": 2
}
